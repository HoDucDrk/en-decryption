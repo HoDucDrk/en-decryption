{
 "cells": [
  {
   "cell_type": "code",
   "execution_count": 28,
   "metadata": {},
   "outputs": [],
   "source": [
    "def create_public_key(p, a, x):\n",
    "  return {\n",
    "    \"p\": p, \n",
    "    \"a\": a, \n",
    "    \"y\": a**x % p\n",
    "  }"
   ]
  },
  {
   "cell_type": "code",
   "execution_count": 8,
   "metadata": {},
   "outputs": [],
   "source": [
    "#Encryption Elgammal\n",
    "def encryption(m, k, key):\n",
    "  d = key[\"a\"]**k % key[\"p\"]\n",
    "  e = (m * key[\"y\"]**k) % key[\"p\"]\n",
    "  return {\n",
    "    \"d\": d, \n",
    "    \"e\": e\n",
    "  }"
   ]
  },
  {
   "cell_type": "code",
   "execution_count": 17,
   "metadata": {},
   "outputs": [],
   "source": [
    "#Decryption Elgammal\n",
    "def decryption(en, key, x):\n",
    "  m = (en[\"e\"] * pow(en[\"d\"]**x, key[\"p\"] - 2, key[\"p\"])) % key[\"p\"]\n",
    "  return m"
   ]
  },
  {
   "cell_type": "code",
   "execution_count": 22,
   "metadata": {},
   "outputs": [],
   "source": [
    "p = int(input(\"Enter public key p: \"))"
   ]
  },
  {
   "cell_type": "code",
   "execution_count": 23,
   "metadata": {},
   "outputs": [],
   "source": [
    "a = int(input(\"Enter public key a: \"))"
   ]
  },
  {
   "cell_type": "code",
   "execution_count": 24,
   "metadata": {},
   "outputs": [],
   "source": [
    "x = int(input(\"Enter private key x: \"))"
   ]
  },
  {
   "cell_type": "code",
   "execution_count": 25,
   "metadata": {},
   "outputs": [],
   "source": [
    "m = int(input(\"Enter plaintext: \"))"
   ]
  },
  {
   "cell_type": "code",
   "execution_count": 26,
   "metadata": {},
   "outputs": [],
   "source": [
    "k = int(input(\"Enter key k: \"))"
   ]
  },
  {
   "cell_type": "code",
   "execution_count": 29,
   "metadata": {},
   "outputs": [
    {
     "data": {
      "text/plain": [
       "{'p': 2357, 'a': 2, 'y': 1185}"
      ]
     },
     "execution_count": 29,
     "metadata": {},
     "output_type": "execute_result"
    }
   ],
   "source": [
    "public_key = create_public_key(p, a, x)\n",
    "public_key"
   ]
  },
  {
   "cell_type": "code",
   "execution_count": 30,
   "metadata": {},
   "outputs": [
    {
     "data": {
      "text/plain": [
       "{'d': 1430, 'e': 697}"
      ]
     },
     "execution_count": 30,
     "metadata": {},
     "output_type": "execute_result"
    }
   ],
   "source": [
    "encryption = encryption(m, k, public_key)\n",
    "encryption"
   ]
  },
  {
   "cell_type": "code",
   "execution_count": 31,
   "metadata": {},
   "outputs": [
    {
     "data": {
      "text/plain": [
       "2035"
      ]
     },
     "execution_count": 31,
     "metadata": {},
     "output_type": "execute_result"
    }
   ],
   "source": [
    "decryption = decryption(encryption, public_key, x)\n",
    "decryption"
   ]
  }
 ],
 "metadata": {
  "interpreter": {
   "hash": "1e4665b4a9e7d2abe72c0a6f6252b8111ce0fc94853c6546d0ec98578145a517"
  },
  "kernelspec": {
   "display_name": "Python 3.8.8 64-bit ('base': conda)",
   "language": "python",
   "name": "python3"
  },
  "language_info": {
   "codemirror_mode": {
    "name": "ipython",
    "version": 3
   },
   "file_extension": ".py",
   "mimetype": "text/x-python",
   "name": "python",
   "nbconvert_exporter": "python",
   "pygments_lexer": "ipython3",
   "version": "3.8.8"
  },
  "orig_nbformat": 4
 },
 "nbformat": 4,
 "nbformat_minor": 2
}
